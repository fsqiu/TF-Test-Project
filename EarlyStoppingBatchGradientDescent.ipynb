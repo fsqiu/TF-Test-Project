{
 "cells": [
  {
   "cell_type": "code",
   "execution_count": 162,
   "metadata": {},
   "outputs": [],
   "source": [
    "from sklearn import clone #used to clone the current weights of the algorithm wrong, because it creates a shallow copy\n",
    "\n",
    "from sklearn.linear_model import SGDRegressor\n",
    "import numpy as np\n",
    "from sklearn.model_selection import train_test_split\n",
    "from sklearn.pipeline import Pipeline\n",
    "from sklearn.preprocessing import PolynomialFeatures\n",
    "from sklearn.preprocessing import StandardScaler\n",
    "from sklearn.metrics import mean_squared_error\n",
    "from copy import deepcopy"
   ]
  },
  {
   "cell_type": "code",
   "execution_count": 303,
   "metadata": {},
   "outputs": [],
   "source": [
    "m = 10000\n",
    "X = 2* np.random.rand(m,1)\n",
    "y = 4+3*X*+5*X**2+np.random.randn(m,1)\n"
   ]
  },
  {
   "cell_type": "code",
   "execution_count": 333,
   "metadata": {},
   "outputs": [],
   "source": [
    "X_train,X_val, y_train,y_val = train_test_split(X,y,test_size = 0.2)\n",
    "poly_scaler = Pipeline([\n",
    "                (\"poly_features\", PolynomialFeatures(degree = 90, include_bias = False))\n",
    "                ,(\"std_scaler\",StandardScaler())\n",
    "            ])\n",
    "X_train_poly_scaled = poly_scaler.fit_transform(X_train)\n",
    "X_val_poly_scaled = poly_scaler.transform(X_val)\n",
    "sgd_reg = SGDRegressor(max_iter = 1, tol = -np.infty, warm_start = True, penalty = None, learning_rate= \"constant\", eta0 = 0.0005)"
   ]
  },
  {
   "cell_type": "code",
   "execution_count": 322,
   "metadata": {
    "scrolled": true
   },
   "outputs": [],
   "source": [
    "#convert 2d array to 1D to fit sgd arguments\n",
    "\n",
    "y_val = y_val.flatten()\n",
    "#alternatively y_train.ravel()\n",
    "#or y_val.ravel()"
   ]
  },
  {
   "cell_type": "code",
   "execution_count": 323,
   "metadata": {},
   "outputs": [],
   "source": [
    "minimum_val_error = float(\"inf\")\n",
    "best_epoch = None\n",
    "best_model = None\n",
    "for epoch in range(1000):\n",
    "    sgd_reg.fit(X_train_poly_scaled, y_train.ravel())\n",
    "    y_val_predict = sgd_reg.predict(X_val_poly_scaled)\n",
    "    val_error = mean_squared_error(y_val, y_val_predict)\n",
    "    if(val_error < minimum_val_error):\n",
    "        minimum_val_error = val_error\n",
    "        best_epoch = epoch\n",
    "        best_model = deepcopy(sgd_reg)"
   ]
  },
  {
   "cell_type": "code",
   "execution_count": 324,
   "metadata": {},
   "outputs": [
    {
     "data": {
      "text/plain": [
       "(360,\n",
       " array([[1.61586445e+00, 2.61101791e+00, 4.21905101e+00, 6.81741453e+00,\n",
       "         1.10160178e+01, 1.78003914e+01, 2.87630197e+01, 4.64771409e+01,\n",
       "         7.51007595e+01, 1.21352647e+02, 1.96089428e+02, 3.16853935e+02,\n",
       "         5.11993009e+02, 8.27311300e+02, 1.33682292e+03, 2.16012462e+03,\n",
       "         3.49046858e+03, 5.64012408e+03, 9.11367597e+03, 1.47264650e+04,\n",
       "         2.37959712e+04, 3.84510638e+04, 6.21317070e+04, 1.00396416e+05,\n",
       "         1.62227000e+05, 2.62136841e+05, 4.23577602e+05, 6.84443987e+05,\n",
       "         1.10596871e+06, 1.78709551e+06, 2.88770410e+06, 4.66613838e+06,\n",
       "         7.53984712e+06, 1.21833709e+07, 1.96866759e+07, 3.18109996e+07,\n",
       "         5.14022633e+07, 8.30590897e+07, 1.34212230e+08, 2.16868771e+08,\n",
       "         3.50430537e+08, 5.66248245e+08, 9.14980407e+08, 1.47848431e+09,\n",
       "         2.38903023e+09, 3.86034901e+09, 6.23780072e+09, 1.00794404e+10,\n",
       "         1.62870094e+10, 2.63175994e+10, 4.25256733e+10, 6.87157235e+10,\n",
       "         1.11035295e+11, 1.79417985e+11, 2.89915143e+11, 4.68463572e+11,\n",
       "         7.56973630e+11, 1.22316678e+12, 1.97647171e+12, 3.19371036e+12,\n",
       "         5.16060303e+12, 8.33883495e+12, 1.34744269e+13, 2.17728474e+13,\n",
       "         3.51819700e+13, 5.68492946e+13, 9.18607539e+13, 1.48434526e+14,\n",
       "         2.39850074e+14, 3.87565207e+14, 6.26252838e+14, 1.01193970e+15,\n",
       "         1.63515738e+15, 2.64219267e+15, 4.26942520e+15, 6.89881239e+15,\n",
       "         1.11475457e+16, 1.80129227e+16, 2.91064414e+16, 4.70320638e+16,\n",
       "         7.59974397e+16, 1.22801561e+17, 1.98430676e+17, 3.20637075e+17,\n",
       "         5.18106050e+17, 8.37189146e+17, 1.35278418e+18, 2.18591585e+18,\n",
       "         3.53214371e+18, 5.70746544e+18]]))"
      ]
     },
     "execution_count": 324,
     "metadata": {},
     "output_type": "execute_result"
    }
   ],
   "source": [
    "\n",
    "best_epoch,X_val_poly_scaled[:1]"
   ]
  },
  {
   "cell_type": "code",
   "execution_count": 325,
   "metadata": {},
   "outputs": [
    {
     "data": {
      "text/plain": [
       "(array([2.14721319e+13]),\n",
       " array([-1.25549537e+14, -1.87619826e+14, -2.44493684e+14, -3.24129908e+14,\n",
       "        -4.48799718e+14, -6.49000003e+14, -9.73982928e+14, -1.50658672e+15,\n",
       "        -2.38803199e+15, -3.86092492e+15, -6.34460730e+15, -1.05678547e+16,\n",
       "        -1.78034508e+16, -3.02842018e+16, -5.19428992e+16, -8.97319934e+16,\n",
       "        -1.55982850e+17, -2.72632833e+17, -4.78814173e+17, -8.44503051e+17,\n",
       "        -1.49510895e+18, -2.65583953e+18, -4.73185324e+18, -8.45324383e+18,\n",
       "        -1.51375817e+19, -2.71657877e+19, -4.88454217e+19, -8.79779457e+19,\n",
       "        -1.58705839e+20, -2.86687491e+20, -5.18507179e+20, -9.38791984e+20,\n",
       "        -1.70135555e+21, -3.08587228e+21, -5.60101752e+21, -1.01721651e+22,\n",
       "        -1.84829239e+22, -3.35964666e+22, -6.10855085e+22, -1.11086492e+23,\n",
       "        -2.02031956e+23, -3.67427854e+23, -6.68150900e+23, -1.21474278e+24,\n",
       "        -2.20778825e+24, -4.01096390e+24, -7.28302506e+24, -1.32159450e+25,\n",
       "        -2.39638966e+25, -4.34146408e+25, -7.85738713e+25, -1.42044078e+26,\n",
       "        -2.56452342e+26, -4.62337533e+26, -8.32156444e+26, -1.49507002e+27,\n",
       "        -2.68063650e+27, -4.79549596e+27, -8.55728811e+27, -1.52271923e+28,\n",
       "        -2.70110861e+28, -4.77463588e+28, -8.40673688e+28, -1.47362318e+29,\n",
       "        -2.57017283e+29, -4.45710078e+29, -7.67878963e+29, -1.31292157e+30,\n",
       "        -2.22504288e+30, -3.73157234e+30, -6.18003517e+30, -1.00791027e+31,\n",
       "        -1.61251298e+31, -2.51649783e+31, -3.79792058e+31, -5.46342213e+31,\n",
       "        -7.28895266e+31, -8.46622005e+31, -6.87095536e+31,  2.36551621e+31,\n",
       "         2.94864248e+32,  9.46254798e+32,  2.34809598e+33,  5.12902826e+33,\n",
       "         1.02350894e+34,  1.87735126e+34,  3.10877475e+34,  4.35636074e+34,\n",
       "         3.93338345e+34, -3.65353071e+34]))"
      ]
     },
     "execution_count": 325,
     "metadata": {},
     "output_type": "execute_result"
    }
   ],
   "source": [
    "best_model.intercept_, best_model.coef_\n",
    "\n",
    "\n"
   ]
  },
  {
   "cell_type": "code",
   "execution_count": 337,
   "metadata": {},
   "outputs": [
    {
     "data": {
      "text/plain": [
       "array([2.14721319e+13])"
      ]
     },
     "execution_count": 337,
     "metadata": {},
     "output_type": "execute_result"
    }
   ],
   "source": [
    "best_model.predict(poly_scaler.fit_transform([[1.5]]))"
   ]
  },
  {
   "cell_type": "code",
   "execution_count": 336,
   "metadata": {},
   "outputs": [
    {
     "data": {
      "text/plain": [
       "array([1.68834133e+50])"
      ]
     },
     "execution_count": 336,
     "metadata": {},
     "output_type": "execute_result"
    }
   ],
   "source": [
    "poly_features = PolynomialFeatures(degree = 90, include_bias = False)\n",
    "best_model.predict(poly_features.fit_transform([[1.5]]))"
   ]
  },
  {
   "cell_type": "code",
   "execution_count": null,
   "metadata": {},
   "outputs": [],
   "source": []
  }
 ],
 "metadata": {
  "kernelspec": {
   "display_name": "Python 3",
   "language": "python",
   "name": "python3"
  },
  "language_info": {
   "codemirror_mode": {
    "name": "ipython",
    "version": 3
   },
   "file_extension": ".py",
   "mimetype": "text/x-python",
   "name": "python",
   "nbconvert_exporter": "python",
   "pygments_lexer": "ipython3",
   "version": "3.7.6"
  }
 },
 "nbformat": 4,
 "nbformat_minor": 4
}
